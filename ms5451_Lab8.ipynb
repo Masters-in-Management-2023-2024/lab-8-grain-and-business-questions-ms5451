{
  "cells": [
    {
      "cell_type": "markdown",
      "metadata": {
        "id": "UgPgyAXm46zd"
      },
      "source": [
        "# Diamond Company Analytics Challenge\n",
        "\n",
        "**Time:** 35 minutes\n",
        "\n",
        "**Scenario:** You are the new data analyst at a prestigious diamond company. The CEO has called an urgent meeting and needs answers to critical business questions about the inventory.\n",
        "\n",
        "**Your Mission:** Analyze the diamond inventory data and provide insights to guide strategic decisions."
      ]
    },
    {
      "cell_type": "code",
      "execution_count": 1,
      "metadata": {
        "colab": {
          "base_uri": "https://localhost:8080/"
        },
        "id": "T_ABD1CV46ze",
        "outputId": "e7a234d5-d90c-4b4b-c43c-b477cae4d924"
      },
      "outputs": [
        {
          "output_type": "stream",
          "name": "stdout",
          "text": [
            "Loading diamonds dataset...\n",
            "Dataset loaded successfully!\n"
          ]
        }
      ],
      "source": [
        "import polars as pl\n",
        "\n",
        "# Load the diamonds dataset\n",
        "print(\"Loading diamonds dataset...\")\n",
        "df = pl.read_csv('https://raw.githubusercontent.com/pycaret/pycaret/master/datasets/diamond.csv')\n",
        "print(\"Dataset loaded successfully!\")"
      ]
    },
    {
      "cell_type": "markdown",
      "metadata": {
        "id": "FB9o7_kB46zf"
      },
      "source": [
        "## Section 1: Initial Inventory Assessment (5 minutes)\n",
        "\n",
        "The CEO walks in: \"Before we dive into specifics, I need to understand what we're working with. Give me the basics about our inventory database.\""
      ]
    },
    {
      "cell_type": "markdown",
      "metadata": {
        "id": "vXWezp5346zf"
      },
      "source": [
        "### Question 1: \"How extensive is our inventory database?\"\n",
        "\n",
        "The CEO needs to know the scale of data you're analyzing."
      ]
    },
    {
      "cell_type": "code",
      "execution_count": 3,
      "metadata": {
        "colab": {
          "base_uri": "https://localhost:8080/"
        },
        "id": "AjXxCoZm46zg",
        "outputId": "3ccb01df-b5f6-4266-d715-974138c20177"
      },
      "outputs": [
        {
          "output_type": "stream",
          "name": "stdout",
          "text": [
            "The inventory size is 6000 diamonds.\n"
          ]
        }
      ],
      "source": [
        "inventory_size = df.height\n",
        "print(\"The inventory size is\", inventory_size, \"diamonds.\")"
      ]
    },
    {
      "cell_type": "markdown",
      "metadata": {
        "id": "bQN3Try746zg"
      },
      "source": [
        "### Question 2: \"What information do we track about each diamond?\"\n",
        "\n",
        "List all the characteristics we record."
      ]
    },
    {
      "cell_type": "code",
      "execution_count": 4,
      "metadata": {
        "colab": {
          "base_uri": "https://localhost:8080/"
        },
        "id": "02i1WYwi46zg",
        "outputId": "b05b235d-468f-4af3-916b-8a2f266cb48c"
      },
      "outputs": [
        {
          "output_type": "stream",
          "name": "stdout",
          "text": [
            "We track the following characteristics:\n",
            " - Carat Weight\n",
            " - Cut\n",
            " - Color\n",
            " - Clarity\n",
            " - Polish\n",
            " - Symmetry\n",
            " - Report\n",
            " - Price\n"
          ]
        }
      ],
      "source": [
        "columns_tracked = df.columns\n",
        "print(\"We track the following characteristics:\")\n",
        "for col in columns_tracked:\n",
        "    print(f\" - {col}\")\n"
      ]
    },
    {
      "cell_type": "markdown",
      "metadata": {
        "id": "zbmxyU9046zg"
      },
      "source": [
        "### Question 3: \"When I look at one line in this database, what am I looking at?\"\n",
        "\n",
        "Explain in business terms:"
      ]
    },
    {
      "cell_type": "markdown",
      "metadata": {
        "id": "oECFjIS046zh"
      },
      "source": [
        "**Your answer:** Each row represents:"
      ]
    },
    {
      "cell_type": "markdown",
      "metadata": {
        "id": "h-Thlfl646zh"
      },
      "source": [
        "## Section 2: Strategic Business Questions (20 minutes)\n",
        "\n",
        "The CEO continues: \"Now let's get to the important questions. Our board meeting is tomorrow and I need concrete numbers.\""
      ]
    },
    {
      "cell_type": "markdown",
      "metadata": {
        "id": "AIDgmnsf46zh"
      },
      "source": [
        "### Question 4: \"We're considering expanding our storage facilities. How many total carats do we have in inventory? I need to know if our vaults can handle the weight.\"\n",
        "\n",
        "Think about what measurement would help answer this."
      ]
    },
    {
      "cell_type": "code",
      "execution_count": 7,
      "metadata": {
        "colab": {
          "base_uri": "https://localhost:8080/"
        },
        "id": "5_25t_9o46zh",
        "outputId": "02db2504-6016-4ebd-a066-15c08f7c5fb7"
      },
      "outputs": [
        {
          "output_type": "stream",
          "name": "stdout",
          "text": [
            "Total carats in inventory: shape: (1, 1)\n",
            "┌──────────────┐\n",
            "│ Carat Weight │\n",
            "│ ---          │\n",
            "│ f64          │\n",
            "╞══════════════╡\n",
            "│ 8007.12      │\n",
            "└──────────────┘\n"
          ]
        }
      ],
      "source": [
        "total_carats = df.select(pl.col(\"Carat Weight\")).sum()\n",
        "print(f\"Total carats in inventory: {total_carats}\")"
      ]
    },
    {
      "cell_type": "markdown",
      "metadata": {
        "id": "zlQuMcqk46zh"
      },
      "source": [
        "### Question 5: \"Our new marketing campaign claims we have 'the widest variety of cuts in the industry.' Can you verify this?\"\n",
        "\n",
        "The CEO wants to know about variety, not quantity."
      ]
    },
    {
      "cell_type": "code",
      "execution_count": 21,
      "metadata": {
        "colab": {
          "base_uri": "https://localhost:8080/"
        },
        "id": "vIHEL9nb46zh",
        "outputId": "bd9f1d24-ca3d-4a02-f2e9-93cd6e638751"
      },
      "outputs": [
        {
          "output_type": "stream",
          "name": "stdout",
          "text": [
            "The cuts in the inventory are:\n",
            " - Very Good\n",
            " - Fair\n",
            " - Signature-Ideal\n",
            " - Ideal\n",
            " - Good\n"
          ]
        }
      ],
      "source": [
        "cuts = df['Cut'].unique().to_list()\n",
        "\n",
        "print(\"The cuts in the inventory are:\")\n",
        "for cut in cuts:\n",
        "    print(f\" - {cut}\")"
      ]
    },
    {
      "cell_type": "markdown",
      "metadata": {
        "id": "yrn-OTdw46zh"
      },
      "source": [
        "### Question 6: \"I'm meeting with our insurance company. They need to know our price exposure - what's our most and least valuable diamond?\""
      ]
    },
    {
      "cell_type": "code",
      "execution_count": 9,
      "metadata": {
        "colab": {
          "base_uri": "https://localhost:8080/"
        },
        "id": "lRzQd6vX46zh",
        "outputId": "a8133ba4-c5d3-477b-bb16-304c3091f102"
      },
      "outputs": [
        {
          "output_type": "stream",
          "name": "stdout",
          "text": [
            "Most valuable diamond:\n",
            "shape: (1, 8)\n",
            "┌──────────────┬───────┬───────┬─────────┬────────┬──────────┬────────┬────────┐\n",
            "│ Carat Weight ┆ Cut   ┆ Color ┆ Clarity ┆ Polish ┆ Symmetry ┆ Report ┆ Price  │\n",
            "│ ---          ┆ ---   ┆ ---   ┆ ---     ┆ ---    ┆ ---      ┆ ---    ┆ ---    │\n",
            "│ f64          ┆ str   ┆ str   ┆ str     ┆ str    ┆ str      ┆ str    ┆ i64    │\n",
            "╞══════════════╪═══════╪═══════╪═════════╪════════╪══════════╪════════╪════════╡\n",
            "│ 2.79         ┆ Ideal ┆ D     ┆ IF      ┆ EX     ┆ EX       ┆ GIA    ┆ 101561 │\n",
            "└──────────────┴───────┴───────┴─────────┴────────┴──────────┴────────┴────────┘\n",
            "Least valuable diamond:\n",
            "shape: (1, 8)\n",
            "┌──────────────┬──────┬───────┬─────────┬────────┬──────────┬────────┬───────┐\n",
            "│ Carat Weight ┆ Cut  ┆ Color ┆ Clarity ┆ Polish ┆ Symmetry ┆ Report ┆ Price │\n",
            "│ ---          ┆ ---  ┆ ---   ┆ ---     ┆ ---    ┆ ---      ┆ ---    ┆ ---   │\n",
            "│ f64          ┆ str  ┆ str   ┆ str     ┆ str    ┆ str      ┆ str    ┆ i64   │\n",
            "╞══════════════╪══════╪═══════╪═════════╪════════╪══════════╪════════╪═══════╡\n",
            "│ 0.77         ┆ Good ┆ I     ┆ VS1     ┆ VG     ┆ G        ┆ AGSL   ┆ 2184  │\n",
            "└──────────────┴──────┴───────┴─────────┴────────┴──────────┴────────┴───────┘\n"
          ]
        }
      ],
      "source": [
        "most_valuable = df.sort(\"Price\", descending=True).head(1)\n",
        "least_valuable = df.sort(\"Price\").head(1)\n",
        "\n",
        "print(\"Most valuable diamond:\")\n",
        "print(most_valuable)\n",
        "\n",
        "print(\"Least valuable diamond:\")\n",
        "print(least_valuable)"
      ]
    },
    {
      "cell_type": "markdown",
      "metadata": {
        "id": "C2KbQL3l46zh"
      },
      "source": [
        "### Question 7: \"Which color grades should we focus on in our premium line? I need typical prices across our color spectrum.\"\n",
        "\n",
        "The CEO wants to understand pricing patterns."
      ]
    },
    {
      "cell_type": "code",
      "execution_count": 11,
      "metadata": {
        "colab": {
          "base_uri": "https://localhost:8080/"
        },
        "id": "biSqGvrc46zi",
        "outputId": "5a44ff96-401f-4a74-e08f-1970ab495f18"
      },
      "outputs": [
        {
          "output_type": "stream",
          "name": "stdout",
          "text": [
            "Average price by color:\n",
            "shape: (6, 2)\n",
            "┌───────┬───────────────┐\n",
            "│ Color ┆ average_price │\n",
            "│ ---   ┆ ---           │\n",
            "│ str   ┆ f64           │\n",
            "╞═══════╪═══════════════╡\n",
            "│ D     ┆ 15255.783661  │\n",
            "│ H     ┆ 10487.347544  │\n",
            "│ F     ┆ 12712.241856  │\n",
            "│ G     ┆ 12520.050633  │\n",
            "│ E     ┆ 11539.190231  │\n",
            "│ I     ┆ 8989.636364   │\n",
            "└───────┴───────────────┘\n"
          ]
        }
      ],
      "source": [
        "color_price = (\n",
        "    df.group_by(\"Color\")\n",
        "      .agg(pl.col(\"Price\").mean().alias(\"average_price\"))\n",
        "\n",
        ")\n",
        "\n",
        "print(\"Average price by color:\")\n",
        "print(color_price)"
      ]
    },
    {
      "cell_type": "markdown",
      "metadata": {
        "id": "6A_eppWL46zi"
      },
      "source": [
        "**Reflection:** After analyzing by color, how has your view of the data changed? What does each row in your result represent now?"
      ]
    },
    {
      "cell_type": "markdown",
      "metadata": {
        "id": "8Hi-bpdT46zi"
      },
      "source": [
        "**Your answer:** New grain ="
      ]
    },
    {
      "cell_type": "markdown",
      "metadata": {
        "id": "gOHb9cFJ46zi"
      },
      "source": [
        "## Section 3: Advanced Strategic Analysis (10 minutes)\n",
        "\n",
        "The CEO leans forward: \"These next questions will shape our strategy for next year.\""
      ]
    },
    {
      "cell_type": "markdown",
      "metadata": {
        "id": "lx4T1pET46zi"
      },
      "source": [
        "### Question 8: \"We're thinking of specializing in certain clarity grades. For our investor deck, I need a complete breakdown showing: how many diamonds we have in each clarity grade, their typical price, and the total carats we're holding for each grade.\""
      ]
    },
    {
      "cell_type": "code",
      "execution_count": 13,
      "metadata": {
        "colab": {
          "base_uri": "https://localhost:8080/"
        },
        "id": "By-DXf_S46zi",
        "outputId": "6e42c330-2bb0-463b-94bf-99883dedcaf1"
      },
      "outputs": [
        {
          "output_type": "stream",
          "name": "stdout",
          "text": [
            "Clarity grade breakdown:\n",
            "shape: (7, 4)\n",
            "┌─────────┬───────────────┬───────────────┬──────────────┐\n",
            "│ Clarity ┆ diamond_count ┆ average_price ┆ total_carats │\n",
            "│ ---     ┆ ---           ┆ ---           ┆ ---          │\n",
            "│ str     ┆ u32           ┆ f64           ┆ f64          │\n",
            "╞═════════╪═══════════════╪═══════════════╪══════════════╡\n",
            "│ IF      ┆ 219           ┆ 22105.844749  ┆ 316.0        │\n",
            "│ VVS1    ┆ 285           ┆ 16845.680702  ┆ 389.43       │\n",
            "│ VVS2    ┆ 666           ┆ 14142.177177  ┆ 876.58       │\n",
            "│ VS1     ┆ 1192          ┆ 13694.113255  ┆ 1682.74      │\n",
            "│ SI1     ┆ 2059          ┆ 8018.864012   ┆ 2563.69      │\n",
            "│ VS2     ┆ 1575          ┆ 11809.053333  ┆ 2170.81      │\n",
            "│ FL      ┆ 4             ┆ 63776.0       ┆ 7.87         │\n",
            "└─────────┴───────────────┴───────────────┴──────────────┘\n"
          ]
        },
        {
          "output_type": "stream",
          "name": "stderr",
          "text": [
            "/tmp/ipython-input-2892898901.py:4: DeprecationWarning: `pl.count()` is deprecated. Please use `pl.len()` instead.\n",
            "  pl.count().alias(\"diamond_count\"),\n"
          ]
        }
      ],
      "source": [
        "clarity_breakdown = (\n",
        "      df.group_by(\"Clarity\")\n",
        "        .agg([\n",
        "            pl.count().alias(\"diamond_count\"),\n",
        "            pl.col(\"Price\").mean().alias(\"average_price\"),\n",
        "            pl.col(\"Carat Weight\").sum().alias(\"total_carats\")\n",
        "        ])\n",
        "\n",
        "  )\n",
        "\n",
        "print(\"Clarity grade breakdown:\")\n",
        "print(clarity_breakdown)"
      ]
    },
    {
      "cell_type": "markdown",
      "metadata": {
        "id": "P76kssF346zi"
      },
      "source": [
        "### Question 9: \"My luxury competitor claims they have the best prices for every cut-color combination. Show me our pricing structure across these combinations - I want to see where we're competitive.\""
      ]
    },
    {
      "cell_type": "code",
      "execution_count": 17,
      "metadata": {
        "colab": {
          "base_uri": "https://localhost:8080/"
        },
        "id": "IBNupW0E46zi",
        "outputId": "f5c2883c-94e2-4748-ef4e-f4855aadb55f"
      },
      "outputs": [
        {
          "output_type": "stream",
          "name": "stdout",
          "text": [
            "Pricing structure across cut–color combinations:\n",
            "shape: (30, 4)\n",
            "┌─────────────────┬───────┬───────────────┬───────────────┐\n",
            "│ Cut             ┆ Color ┆ average_price ┆ diamond_count │\n",
            "│ ---             ┆ ---   ┆ ---           ┆ ---           │\n",
            "│ str             ┆ str   ┆ f64           ┆ u32           │\n",
            "╞═════════════════╪═══════╪═══════════════╪═══════════════╡\n",
            "│ Ideal           ┆ H     ┆ 11527.700873  ┆ 458           │\n",
            "│ Fair            ┆ H     ┆ 5908.5        ┆ 24            │\n",
            "│ Ideal           ┆ E     ┆ 12647.107914  ┆ 278           │\n",
            "│ Very Good       ┆ I     ┆ 8930.031332   ┆ 383           │\n",
            "│ Fair            ┆ I     ┆ 4573.1875     ┆ 16            │\n",
            "│ …               ┆ …     ┆ …             ┆ …             │\n",
            "│ Ideal           ┆ G     ┆ 13570.310145  ┆ 690           │\n",
            "│ Ideal           ┆ F     ┆ 14729.426997  ┆ 363           │\n",
            "│ Very Good       ┆ F     ┆ 12413.905495  ┆ 455           │\n",
            "│ Very Good       ┆ G     ┆ 12354.013841  ┆ 578           │\n",
            "│ Signature-Ideal ┆ G     ┆ 10248.296875  ┆ 64            │\n",
            "└─────────────────┴───────┴───────────────┴───────────────┘\n"
          ]
        }
      ],
      "source": [
        "cut_color_pricing = (\n",
        "    df.group_by([\"Cut\", \"Color\"])\n",
        "      .agg([\n",
        "          pl.col(\"Price\").mean().alias(\"average_price\"),\n",
        "          pl.len().alias(\"diamond_count\")\n",
        "      ])\n",
        "\n",
        ")\n",
        "\n",
        "print(\"Pricing structure across cut–color combinations:\")\n",
        "print(cut_color_pricing)"
      ]
    },
    {
      "cell_type": "markdown",
      "metadata": {
        "id": "pY9qTxK846zi"
      },
      "source": [
        "**Reflection:** How specific is your analysis now? What level of detail does each row represent?"
      ]
    },
    {
      "cell_type": "markdown",
      "metadata": {
        "id": "KMuLiT4u46zi"
      },
      "source": [
        "**Your answer:** New grain ="
      ]
    },
    {
      "cell_type": "markdown",
      "metadata": {
        "id": "lMmCEkNm46zi"
      },
      "source": [
        "### Question 10: URGENT - \"Our biggest client is interested in purchasing entire inventory segments. They asked: 'Which color-cut combinations represent your highest total inventory value?' Show me the top 5 most valuable inventory segments by total worth, and include how many diamonds are in each segment.\"\n",
        "\n",
        "This is critical for tomorrow's negotiation."
      ]
    },
    {
      "cell_type": "code",
      "execution_count": 19,
      "metadata": {
        "colab": {
          "base_uri": "https://localhost:8080/"
        },
        "id": "NNVHJVNT46zi",
        "outputId": "3ffcc5a9-3321-4e34-df4c-57e4975711c8"
      },
      "outputs": [
        {
          "output_type": "stream",
          "name": "stdout",
          "text": [
            "Top 5 most valuable color–cut inventory segments:\n",
            "shape: (5, 4)\n",
            "┌───────┬───────────┬───────────────┬─────────────┐\n",
            "│ Color ┆ Cut       ┆ diamond_count ┆ total_value │\n",
            "│ ---   ┆ ---       ┆ ---           ┆ ---         │\n",
            "│ str   ┆ str       ┆ u32           ┆ i64         │\n",
            "╞═══════╪═══════════╪═══════════════╪═════════════╡\n",
            "│ G     ┆ Ideal     ┆ 690           ┆ 9363514     │\n",
            "│ G     ┆ Very Good ┆ 578           ┆ 7140620     │\n",
            "│ F     ┆ Very Good ┆ 455           ┆ 5648327     │\n",
            "│ F     ┆ Ideal     ┆ 363           ┆ 5346782     │\n",
            "│ H     ┆ Ideal     ┆ 458           ┆ 5279687     │\n",
            "└───────┴───────────┴───────────────┴─────────────┘\n"
          ]
        }
      ],
      "source": [
        "segment_value = (\n",
        "    df.group_by([\"Color\", \"Cut\"])\n",
        "      .agg([\n",
        "          pl.len().alias(\"diamond_count\"),\n",
        "          pl.col(\"Price\").sum().alias(\"total_value\")\n",
        "      ])\n",
        "      .sort(\"total_value\", descending=True)\n",
        "      .head(5)\n",
        ")\n",
        "\n",
        "print(\"Top 5 most valuable color–cut inventory segments:\")\n",
        "print(segment_value)"
      ]
    },
    {
      "cell_type": "markdown",
      "metadata": {
        "id": "-b17VRXQ46zj"
      },
      "source": [
        "## Debrief\n",
        "\n",
        "Congratulations! You've just completed your first day as the diamond company's data analyst.\n",
        "\n",
        "Remember:\n",
        "- CEOs speak in business language, not technical terms\n",
        "- Always understand what each row represents before analyzing\n",
        "- Business questions contain clues about which operations to use"
      ]
    }
  ],
  "metadata": {
    "kernelspec": {
      "display_name": "Python 3",
      "language": "python",
      "name": "python3"
    },
    "language_info": {
      "codemirror_mode": {
        "name": "ipython",
        "version": 3
      },
      "file_extension": ".py",
      "mimetype": "text/x-python",
      "name": "python",
      "nbconvert_exporter": "python",
      "pygments_lexer": "ipython3",
      "version": "3.12.0"
    },
    "colab": {
      "provenance": []
    }
  },
  "nbformat": 4,
  "nbformat_minor": 0
}